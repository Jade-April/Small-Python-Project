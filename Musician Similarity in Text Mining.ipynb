{
 "cells": [
  {
   "cell_type": "markdown",
   "metadata": {
    "colab_type": "text",
    "id": "upjnptwoEgyd"
   },
   "source": [
    "<h1>Document Similarity using LSI</h1>"
   ]
  },
  {
   "cell_type": "markdown",
   "metadata": {
    "colab_type": "text",
    "id": "_5HOu9EREgyf"
   },
   "source": [
    "<h4>OUTLINE</h4>\n",
    "<ol>\n",
    "<li>From Wikipedia’s List of musicians page (https://en.wikipedia.org/wiki/Lists_of_musicians), pick five lists of\n",
    "musicians (e.g., List of big band musicians) which have the words “musicians” in\n",
    "it and that the list has at least 30 musicians listed.\n",
    "<li>Collect the urls of all the musicians on those five pages and place them in a list\n",
    "<li>Grab the content of each musician in the list and place them in a list (of documents)\n",
    "<li>Build an LSI model using this data to form the \"reference\" data set\n",
    "<li>Grab another list of musicians from wikipedia and create a new list of documents using the detail from each musicians page to form the \"musician\" data set\n",
    "<li>For each musician in the new list, find the musician in the reference data set that is the closest in similarity. \n",
    "<li>Print a table that contains each musician from the musician data set and the most similar musician from the reference data set\n",
    "</ol>"
   ]
  },
  {
   "cell_type": "markdown",
   "metadata": {
    "colab_type": "text",
    "id": "dt_sAKfpEgyh"
   },
   "source": [
    "<h4>get_musicians</h4>\n",
    "<li>A function that, given a \"list of musicians\" url, returns a list containing the names of the musicians and the urls for their wikipedia pages"
   ]
  },
  {
   "cell_type": "code",
   "execution_count": 0,
   "metadata": {
    "colab": {},
    "colab_type": "code",
    "id": "R6Qnzcz9Egyh"
   },
   "outputs": [],
   "source": [
    "def get_musicians(url):\n",
    "    from bs4 import BeautifulSoup\n",
    "    import requests\n",
    "    page_soup = BeautifulSoup(requests.get(url).content,'lxml')\n",
    "    li_tags = page_soup.find_all('li')\n",
    "    all_musicians = list()\n",
    "    for tag in li_tags:\n",
    "        if tag.get('id'):\n",
    "            continue\n",
    "\n",
    "        try:\n",
    "            tag.find('sup',class_=\"reference\")\n",
    "            link = tag.find('a').get('href')\n",
    "            name = tag.find('a').get_text()\n",
    "            if \"/wiki/\" in link and non_musician_finder(link):\n",
    "                all_musicians.append((name,\"https://en.wikipedia.org\" + link))\n",
    "        except:\n",
    "            pass\n",
    "    return all_musicians\n",
    "\n",
    "def non_musician_finder(link):\n",
    "    non_musician_words = ['Category','Template','Portal','List','File','Template','Special','Main','Help','User']\n",
    "    for word in non_musician_words:\n",
    "        if word in link:\n",
    "            return False\n",
    "    return True"
   ]
  },
  {
   "cell_type": "code",
   "execution_count": 2,
   "metadata": {
    "colab": {
     "base_uri": "https://localhost:8080/",
     "height": 107
    },
    "colab_type": "code",
    "id": "acjzAb0dEgyk",
    "outputId": "1c3a909f-d637-415b-d30c-77275b6426d3"
   },
   "outputs": [
    {
     "data": {
      "text/plain": [
       "['free_funk_musicians',\n",
       " 'country_rock_musicians',\n",
       " 'Ghanaian_musicians',\n",
       " 'boogie_woogie_musicians',\n",
       " 'Chinese_musicians']"
      ]
     },
     "execution_count": 2,
     "metadata": {
      "tags": []
     },
     "output_type": "execute_result"
    }
   ],
   "source": [
    "def select_five_list(url):\n",
    "    from bs4 import BeautifulSoup\n",
    "    import requests\n",
    "    import random\n",
    "    page_soup = BeautifulSoup(requests.get(url).content,'lxml')\n",
    "    li_tags = page_soup.find_all('li')\n",
    "    random.shuffle(li_tags)\n",
    "    page_list=[]\n",
    "    for tag in li_tags:\n",
    "        try: \n",
    "            if 'musicians' in tag.find('a').get_text():\n",
    "                url_='https://en.wikipedia.org/'+tag.find('a').get('href')\n",
    "                get_m=get_musicians(url_)\n",
    "                if len(get_musicians(url_))>=30:\n",
    "                    name=tag.find('a').get('title')\n",
    "                    name_refine='_'.join(name.split()[2:])\n",
    "                    page_list.append(name_refine)\n",
    "                    if len(page_list)==5:\n",
    "                        break\n",
    "        except:\n",
    "            pass\n",
    "    return page_list\n",
    "    \n",
    "url='https://en.wikipedia.org/wiki/Lists_of_musicians'\n",
    "select_five_list(url)"
   ]
  },
  {
   "cell_type": "markdown",
   "metadata": {
    "colab_type": "text",
    "id": "a0lAwaQ2Egyq"
   },
   "source": [
    "<h4>get_musician_text(url): returns the page text of the wikipedia page associated with a musician</h4>"
   ]
  },
  {
   "cell_type": "code",
   "execution_count": 0,
   "metadata": {
    "colab": {},
    "colab_type": "code",
    "id": "D5gtdByLEgyr"
   },
   "outputs": [],
   "source": [
    "def get_musician_text(url):\n",
    "    from bs4 import BeautifulSoup\n",
    "    import requests\n",
    "    all_text = ''\n",
    "    try:\n",
    "        page_soup = BeautifulSoup(requests.get(url).content,'lxml')\n",
    "        for p_tag in page_soup.find_all('p'):\n",
    "            all_text += p_tag.get_text()\n",
    "    except:\n",
    "        return None\n",
    "    return all_text\n"
   ]
  },
  {
   "cell_type": "markdown",
   "metadata": {
    "colab_type": "text",
    "id": "dSfFQsdOEgyv"
   },
   "source": [
    "<h4>get_all_musicians: A function that, given a list of genres, returns a list containing the names of the musicians and the urls for their wikipedia pages associated with that list of genres</h4>"
   ]
  },
  {
   "cell_type": "code",
   "execution_count": 0,
   "metadata": {
    "colab": {},
    "colab_type": "code",
    "id": "1IWvM87BEgyw"
   },
   "outputs": [],
   "source": [
    "def get_all_musicians(genre_list):\n",
    "    all_musicians = list()\n",
    "    for genre in genre_list:\n",
    "        url = 'https://en.wikipedia.org/wiki/List_of_' + genre\n",
    "    \n",
    "        all_musicians.extend(get_musicians(url))\n",
    "    \n",
    "    return all_musicians"
   ]
  },
  {
   "cell_type": "code",
   "execution_count": 0,
   "metadata": {
    "colab": {},
    "colab_type": "code",
    "id": "XzqLlp0wEgyy"
   },
   "outputs": [],
   "source": [
    "genre_list = ['bluegrass_musicians#G','British_blues_musicians','country_blues_musicians','emo_artists']\n",
    "all_musicians = get_all_musicians(genre_list)"
   ]
  },
  {
   "cell_type": "markdown",
   "metadata": {
    "colab_type": "text",
    "id": "OgXc9chIEgy0"
   },
   "source": [
    "<h4>get_all_musician_docs: A function that, given the list of (musician,url) pairs, returns two lists, a list of musicians and a parallel (same size) list of documents. </h4>"
   ]
  },
  {
   "cell_type": "code",
   "execution_count": 0,
   "metadata": {
    "colab": {},
    "colab_type": "code",
    "id": "L6aKXU4PEgy1"
   },
   "outputs": [],
   "source": [
    "def get_all_musician_docs(all_musicians):\n",
    "    musician_names = list()\n",
    "    musician_texts = list()\n",
    "    for musician in all_musicians:\n",
    "        name = musician[0]\n",
    "        url = musician[1]\n",
    "        \n",
    "        text=get_musician_text(url)\n",
    "        if text:\n",
    "            musician_names.append(name)\n",
    "            musician_texts.append(text)\n",
    "    return musician_names,musician_texts\n",
    "        "
   ]
  },
  {
   "cell_type": "code",
   "execution_count": 0,
   "metadata": {
    "colab": {},
    "colab_type": "code",
    "id": "g7oz_gjnEgy3"
   },
   "outputs": [],
   "source": [
    "reference_names,reference_docs = get_all_musician_docs(all_musicians)"
   ]
  },
  {
   "cell_type": "markdown",
   "metadata": {
    "colab_type": "text",
    "id": "MPIEuEL8Egy5"
   },
   "source": [
    "<h3>Set up the LSI model</h3>"
   ]
  },
  {
   "cell_type": "code",
   "execution_count": 0,
   "metadata": {
    "colab": {},
    "colab_type": "code",
    "id": "Z4vPsmAyEgy6"
   },
   "outputs": [],
   "source": [
    "from gensim import corpora,similarities,models\n",
    "from gensim.parsing.preprocessing import STOPWORDS\n",
    "from gensim.similarities.docsim import Similarity\n",
    "texts=[[word for word in doc.lower().split() if word and word not in STOPWORDS and word.isalnum()]for doc in reference_docs]\n",
    "dictionary=corpora.Dictionary(texts)\n",
    "corpus=[dictionary.doc2bow(text) for text in texts]\n",
    "\n",
    "\n",
    "lsi = models.LsiModel(corpus, id2word=dictionary, num_topics=5)"
   ]
  },
  {
   "cell_type": "markdown",
   "metadata": {
    "colab_type": "text",
    "id": "30wN68FOEgy8"
   },
   "source": [
    "<h3>Construct the \"musician\" data set</h3>"
   ]
  },
  {
   "cell_type": "code",
   "execution_count": 0,
   "metadata": {
    "colab": {},
    "colab_type": "code",
    "id": "uNSYd-tYEgy8"
   },
   "outputs": [],
   "source": [
    "musician_genre_list = ['acid_rock_artists']\n",
    "all_musicians = get_all_musicians(musician_genre_list)\n",
    "musician_names,musician_docs = get_all_musician_docs(all_musicians)"
   ]
  },
  {
   "cell_type": "code",
   "execution_count": 12,
   "metadata": {
    "colab": {
     "base_uri": "https://localhost:8080/",
     "height": 1000
    },
    "colab_type": "code",
    "id": "coOMsP_LEgy-",
    "outputId": "3c33b698-6ec5-44e6-894e-cb4df121fa18"
   },
   "outputs": [
    {
     "data": {
      "text/plain": [
       "['The 13th Floor Elevators',\n",
       " 'Alice Cooper',\n",
       " 'The Amboy Dukes',\n",
       " 'Amon Düül',\n",
       " 'Big Brother and the Holding Company',\n",
       " 'Black Sabbath',\n",
       " 'Blue Cheer',\n",
       " 'Blues Magoos',\n",
       " 'The Charlatans',\n",
       " 'Count Five',\n",
       " 'Country Joe and the Fish',\n",
       " 'Coven',\n",
       " 'Cream',\n",
       " 'Deep Purple',\n",
       " 'The Deviants',\n",
       " 'The Doors',\n",
       " 'The Electric Prunes',\n",
       " 'The Fugs',\n",
       " 'Grateful Dead',\n",
       " 'The Great Society',\n",
       " 'The Groundhogs',\n",
       " 'Hawkwind',\n",
       " 'Iron Butterfly',\n",
       " 'Jefferson Airplane',\n",
       " 'The Jimi Hendrix Experience',\n",
       " 'Janis Joplin',\n",
       " 'JPT Scare Band',\n",
       " 'Love',\n",
       " 'MC5',\n",
       " 'Moby Grape',\n",
       " 'The Music Machine',\n",
       " 'Quicksilver Messenger Service',\n",
       " 'Santana',\n",
       " 'The Seeds',\n",
       " 'Grace Slick',\n",
       " 'Steppenwolf',\n",
       " 'Tully',\n",
       " 'Vanilla Fudge',\n",
       " 'Wooden Shjips',\n",
       " 'Acid rock',\n",
       " 'Knowles, Christopher',\n",
       " 'McIntyre, Iain',\n",
       " 'Prown, Pete',\n",
       " 'Folk',\n",
       " 'Funk',\n",
       " 'Hip hop',\n",
       " 'Pop',\n",
       " 'Rock',\n",
       " 'Soul',\n",
       " 'Trance',\n",
       " 'Dub',\n",
       " 'Psybient',\n",
       " 'Suomisaundi',\n",
       " 'Breaks',\n",
       " 'House',\n",
       " 'Jazz',\n",
       " 'Punk',\n",
       " 'Rock',\n",
       " 'Techno',\n",
       " 'Trance',\n",
       " 'Krautrock',\n",
       " 'Chillwave',\n",
       " 'Dream-beat',\n",
       " 'Freakbeat',\n",
       " 'Goa trance',\n",
       " 'Italian occult psychedelia',\n",
       " 'Hypnagogic pop',\n",
       " 'Madchester',\n",
       " 'Neo-psychedelia',\n",
       " 'Dream pop',\n",
       " 'Shoegazing',\n",
       " 'Paisley Underground',\n",
       " 'Space rock',\n",
       " 'Stoner rock',\n",
       " 'Trip hop',\n",
       " 'Beat Generation',\n",
       " 'Cannabis culture',\n",
       " 'Counterculture of the 1960s',\n",
       " 'Deadhead',\n",
       " 'Freak scene',\n",
       " 'Grebo',\n",
       " 'Hippies',\n",
       " 'Jam band',\n",
       " 'New Age travellers',\n",
       " 'Rave culture',\n",
       " 'San Francisco Sound',\n",
       " 'Second Summer of Love',\n",
       " 'Summer of Love',\n",
       " 'UK underground',\n",
       " 'Palm Desert Scene',\n",
       " 'History of LSD',\n",
       " 'New Age movement',\n",
       " 'Progressive music',\n",
       " 'Psychedelia',\n",
       " 'Psychedelic art',\n",
       " 'LSD art',\n",
       " 'Psychedelic drug',\n",
       " 'Psychedelic era',\n",
       " 'Psychedelic experience',\n",
       " 'Psychedelic literature',\n",
       " 'Sitar in popular music']"
      ]
     },
     "execution_count": 12,
     "metadata": {
      "tags": []
     },
     "output_type": "execute_result"
    }
   ],
   "source": [
    "musician_names"
   ]
  },
  {
   "cell_type": "markdown",
   "metadata": {
    "colab_type": "text",
    "id": "1s71yRtsEgzA"
   },
   "source": [
    "<h4>find the most similar musicians for each new musician from our reference data set</h4>"
   ]
  },
  {
   "cell_type": "code",
   "execution_count": 13,
   "metadata": {
    "colab": {
     "base_uri": "https://localhost:8080/",
     "height": 91
    },
    "colab_type": "code",
    "id": "9t7Z0O2dEgzA",
    "outputId": "08a488d0-4077-4ec7-e361-c53dd415288f"
   },
   "outputs": [
    {
     "name": "stderr",
     "output_type": "stream",
     "text": [
      "/usr/local/lib/python3.6/dist-packages/gensim/matutils.py:737: FutureWarning: Conversion of the second argument of issubdtype from `int` to `np.signedinteger` is deprecated. In future, it will be treated as `np.int64 == np.dtype(int).type`.\n",
      "  if np.issubdtype(vec.dtype, np.int):\n"
     ]
    },
    {
     "name": "stdout",
     "output_type": "stream",
     "text": [
      "[('The 13th Floor Elevators', 'Marcus Mumford'), ('Alice Cooper', 'Jawbreaker'), ('The Amboy Dukes', 'Garden Variety'), ('Amon Düül', 'Secondhand Serenade'), ('Big Brother and the Holding Company', 'The Pretty Things'), ('Black Sabbath', 'Garden Variety'), ('Blue Cheer', 'Eric Burdon'), ('Blues Magoos', 'Tramp'), ('The Charlatans', 'Fragile Rock'), ('Count Five', 'Free'), ('Country Joe and the Fish', 'Vern Williams'), ('Coven', 'Rites of Spring'), ('Cream', 'Cream'), ('Deep Purple', 'The Anniversary'), ('The Deviants', 'Nude'), ('The Doors', 'Secondhand Serenade'), ('The Electric Prunes', 'Secondhand Serenade'), ('The Fugs', 'Secondhand Serenade'), ('Grateful Dead', 'Secondhand Serenade'), ('The Great Society', 'Pillar'), ('The Groundhogs', 'The Groundhogs'), ('Hawkwind', 'Wishbone Ash'), ('Iron Butterfly', 'Steamhammer'), ('Jefferson Airplane', 'Free'), ('The Jimi Hendrix Experience', 'The Jimi Hendrix Experience'), ('Janis Joplin', 'Memphis Jug Band'), ('JPT Scare Band', 'Secondhand Serenade'), ('Love', 'The Pretty Things'), ('MC5', 'Free'), ('Moby Grape', 'Marcus Mumford'), ('The Music Machine', 'Emo hip hop'), ('Quicksilver Messenger Service', 'Free'), ('Santana', 'Nude'), ('The Seeds', 'The Jimi Hendrix Experience'), ('Grace Slick', 'Vassar Clements'), ('Steppenwolf', 'Pillar'), ('Tully', 'Fire Party'), ('Vanilla Fudge', 'American Football'), ('Wooden Shjips', 'Ida'), ('Acid rock', 'Ted Bogan'), ('Knowles, Christopher', 'Top Topham'), ('McIntyre, Iain', 'Rhiannon Giddens'), ('Prown, Pete', 'Peg Leg Sam'), ('Folk', '\"Big\" Paul Williams'), ('Funk', 'Ragtime'), ('Hip hop', 'Jim McReynolds'), ('Pop', 'Merlefest'), ('Rock', 'Coon songs'), ('Soul', 'Hokum'), ('Trance', 'Laurie Lewis'), ('Dub', 'Buzz Busby'), ('Psybient', 'Laurie Lewis'), ('Suomisaundi', \"Mark O'Connor\"), ('Breaks', 'Old-time music'), ('House', 'Russ Barenberg'), ('Jazz', 'Jazz'), ('Punk', 'Coon songs'), ('Rock', 'Ted Bogan'), ('Techno', 'technique'), ('Trance', 'International Bluegrass Music Hall of Fame'), ('Krautrock', 'Spirituals'), ('Chillwave', 'Kenny Kosek'), ('Dream-beat', 'Work songs'), ('Freakbeat', 'DeFord Bailey'), ('Goa trance', 'Old-time music'), ('Italian occult psychedelia', 'International Bluegrass Music Hall of Fame'), ('Hypnagogic pop', 'Old-time music'), ('Madchester', 'Butch Baldassari'), ('Neo-psychedelia', 'Coon songs'), ('Dream pop', 'AllMusic'), ('Shoegazing', 'Rhiannon Giddens'), ('Paisley Underground', 'Drive Like Jehu'), ('Space rock', 'Fragile Rock'), ('Stoner rock', 'Memphis Jug Band'), ('Trip hop', 'Butch Baldassari'), ('Beat Generation', 'Béla Fleck'), ('Cannabis culture', 'Traditional bluegrass'), ('Counterculture of the 1960s', 'Washington, D.C.'), ('Deadhead', 'Fire Party'), ('Freak scene', 'Brennan Gilmore'), ('Grebo', 'Coon songs'), ('Hippies', 'Washington, D.C.'), ('Jam band', 'Penny Nichols'), ('New Age travellers', 'Screamo'), ('Rave culture', 'Call and response'), ('San Francisco Sound', 'Washington, D.C.'), ('Second Summer of Love', 'Bluegrass music'), ('Summer of Love', 'Eric Weissberg'), ('UK underground', 'Charlie Cline'), ('Palm Desert Scene', 'Tony Furtado'), ('History of LSD', 'John Byrne Cooke'), ('New Age movement', 'David Grisman'), ('Progressive music', 'Call and response'), ('Psychedelia', 'Call and response'), ('Psychedelic art', 'Raymond Fairchild'), ('LSD art', 'Work songs'), ('Psychedelic drug', 'technique'), ('Psychedelic era', 'Bob Brozman'), ('Psychedelic experience', 'Midwestern United States'), ('Psychedelic literature', 'Rhythm and blues'), ('Sitar in popular music', 'Jimmy Martin')]\n"
     ]
    }
   ],
   "source": [
    "table_data = list()\n",
    "for index,musician in enumerate(musician_docs):\n",
    "    \n",
    "    vec_bow=dictionary.doc2bow(musician.lower().split())\n",
    "    vec_lsi=lsi[vec_bow]\n",
    "    index_=similarities.MatrixSimilarity(lsi[corpus])\n",
    "    sims=index_[vec_lsi]\n",
    "    sims=sorted(enumerate(sims),key=lambda x:-x[1])\n",
    "    most_similar_musician = sims[0][0]\n",
    "    table_data.append((musician_names[index],reference_names[most_similar_musician]))\n",
    "    \n",
    "print(table_data)\n",
    "    "
   ]
  },
  {
   "cell_type": "code",
   "execution_count": 15,
   "metadata": {
    "colab": {
     "base_uri": "https://localhost:8080/",
     "height": 1000
    },
    "colab_type": "code",
    "id": "SePCIRRxEgzC",
    "outputId": "e5b7e7ec-dfea-40cc-f6de-58ca5f88c59d"
   },
   "outputs": [
    {
     "name": "stdout",
     "output_type": "stream",
     "text": [
      "[   ('The 13th Floor Elevators', 'Marcus Mumford'),\n",
      "    ('Alice Cooper', 'Jawbreaker'),\n",
      "    ('The Amboy Dukes', 'Garden Variety'),\n",
      "    ('Amon Düül', 'Secondhand Serenade'),\n",
      "    ('Big Brother and the Holding Company', 'The Pretty Things'),\n",
      "    ('Black Sabbath', 'Garden Variety'),\n",
      "    ('Blue Cheer', 'Eric Burdon'),\n",
      "    ('Blues Magoos', 'Tramp'),\n",
      "    ('The Charlatans', 'Fragile Rock'),\n",
      "    ('Count Five', 'Free'),\n",
      "    ('Country Joe and the Fish', 'Vern Williams'),\n",
      "    ('Coven', 'Rites of Spring'),\n",
      "    ('Cream', 'Cream'),\n",
      "    ('Deep Purple', 'The Anniversary'),\n",
      "    ('The Deviants', 'Nude'),\n",
      "    ('The Doors', 'Secondhand Serenade'),\n",
      "    ('The Electric Prunes', 'Secondhand Serenade'),\n",
      "    ('The Fugs', 'Secondhand Serenade'),\n",
      "    ('Grateful Dead', 'Secondhand Serenade'),\n",
      "    ('The Great Society', 'Pillar'),\n",
      "    ('The Groundhogs', 'The Groundhogs'),\n",
      "    ('Hawkwind', 'Wishbone Ash'),\n",
      "    ('Iron Butterfly', 'Steamhammer'),\n",
      "    ('Jefferson Airplane', 'Free'),\n",
      "    ('The Jimi Hendrix Experience', 'The Jimi Hendrix Experience'),\n",
      "    ('Janis Joplin', 'Memphis Jug Band'),\n",
      "    ('JPT Scare Band', 'Secondhand Serenade'),\n",
      "    ('Love', 'The Pretty Things'),\n",
      "    ('MC5', 'Free'),\n",
      "    ('Moby Grape', 'Marcus Mumford'),\n",
      "    ('The Music Machine', 'Emo hip hop'),\n",
      "    ('Quicksilver Messenger Service', 'Free'),\n",
      "    ('Santana', 'Nude'),\n",
      "    ('The Seeds', 'The Jimi Hendrix Experience'),\n",
      "    ('Grace Slick', 'Vassar Clements'),\n",
      "    ('Steppenwolf', 'Pillar'),\n",
      "    ('Tully', 'Fire Party'),\n",
      "    ('Vanilla Fudge', 'American Football'),\n",
      "    ('Wooden Shjips', 'Ida'),\n",
      "    ('Acid rock', 'Ted Bogan'),\n",
      "    ('Knowles, Christopher', 'Top Topham'),\n",
      "    ('McIntyre, Iain', 'Rhiannon Giddens'),\n",
      "    ('Prown, Pete', 'Peg Leg Sam'),\n",
      "    ('Folk', '\"Big\" Paul Williams'),\n",
      "    ('Funk', 'Ragtime'),\n",
      "    ('Hip hop', 'Jim McReynolds'),\n",
      "    ('Pop', 'Merlefest'),\n",
      "    ('Rock', 'Coon songs'),\n",
      "    ('Soul', 'Hokum'),\n",
      "    ('Trance', 'Laurie Lewis'),\n",
      "    ('Dub', 'Buzz Busby'),\n",
      "    ('Psybient', 'Laurie Lewis'),\n",
      "    ('Suomisaundi', \"Mark O'Connor\"),\n",
      "    ('Breaks', 'Old-time music'),\n",
      "    ('House', 'Russ Barenberg'),\n",
      "    ('Jazz', 'Jazz'),\n",
      "    ('Punk', 'Coon songs'),\n",
      "    ('Rock', 'Ted Bogan'),\n",
      "    ('Techno', 'technique'),\n",
      "    ('Trance', 'International Bluegrass Music Hall of Fame'),\n",
      "    ('Krautrock', 'Spirituals'),\n",
      "    ('Chillwave', 'Kenny Kosek'),\n",
      "    ('Dream-beat', 'Work songs'),\n",
      "    ('Freakbeat', 'DeFord Bailey'),\n",
      "    ('Goa trance', 'Old-time music'),\n",
      "    (   'Italian occult psychedelia',\n",
      "        'International Bluegrass Music Hall of Fame'),\n",
      "    ('Hypnagogic pop', 'Old-time music'),\n",
      "    ('Madchester', 'Butch Baldassari'),\n",
      "    ('Neo-psychedelia', 'Coon songs'),\n",
      "    ('Dream pop', 'AllMusic'),\n",
      "    ('Shoegazing', 'Rhiannon Giddens'),\n",
      "    ('Paisley Underground', 'Drive Like Jehu'),\n",
      "    ('Space rock', 'Fragile Rock'),\n",
      "    ('Stoner rock', 'Memphis Jug Band'),\n",
      "    ('Trip hop', 'Butch Baldassari'),\n",
      "    ('Beat Generation', 'Béla Fleck'),\n",
      "    ('Cannabis culture', 'Traditional bluegrass'),\n",
      "    ('Counterculture of the 1960s', 'Washington, D.C.'),\n",
      "    ('Deadhead', 'Fire Party'),\n",
      "    ('Freak scene', 'Brennan Gilmore'),\n",
      "    ('Grebo', 'Coon songs'),\n",
      "    ('Hippies', 'Washington, D.C.'),\n",
      "    ('Jam band', 'Penny Nichols'),\n",
      "    ('New Age travellers', 'Screamo'),\n",
      "    ('Rave culture', 'Call and response'),\n",
      "    ('San Francisco Sound', 'Washington, D.C.'),\n",
      "    ('Second Summer of Love', 'Bluegrass music'),\n",
      "    ('Summer of Love', 'Eric Weissberg'),\n",
      "    ('UK underground', 'Charlie Cline'),\n",
      "    ('Palm Desert Scene', 'Tony Furtado'),\n",
      "    ('History of LSD', 'John Byrne Cooke'),\n",
      "    ('New Age movement', 'David Grisman'),\n",
      "    ('Progressive music', 'Call and response'),\n",
      "    ('Psychedelia', 'Call and response'),\n",
      "    ('Psychedelic art', 'Raymond Fairchild'),\n",
      "    ('LSD art', 'Work songs'),\n",
      "    ('Psychedelic drug', 'technique'),\n",
      "    ('Psychedelic era', 'Bob Brozman'),\n",
      "    ('Psychedelic experience', 'Midwestern United States'),\n",
      "    ('Psychedelic literature', 'Rhythm and blues'),\n",
      "    ('Sitar in popular music', 'Jimmy Martin')]\n"
     ]
    }
   ],
   "source": [
    "import pprint\n",
    "pp=pprint.PrettyPrinter(indent=4)\n",
    "pp.pprint(table_data)"
   ]
  },
  {
   "cell_type": "code",
   "execution_count": 0,
   "metadata": {
    "colab": {},
    "colab_type": "code",
    "id": "a7MQtYnTFdMX"
   },
   "outputs": [],
   "source": []
  }
 ],
 "metadata": {
  "anaconda-cloud": {},
  "colab": {
   "collapsed_sections": [],
   "name": "text mining assignment.ipynb",
   "provenance": []
  },
  "kernelspec": {
   "display_name": "Python 3",
   "language": "python",
   "name": "python3"
  },
  "language_info": {
   "codemirror_mode": {
    "name": "ipython",
    "version": 3
   },
   "file_extension": ".py",
   "mimetype": "text/x-python",
   "name": "python",
   "nbconvert_exporter": "python",
   "pygments_lexer": "ipython3",
   "version": "3.7.3"
  }
 },
 "nbformat": 4,
 "nbformat_minor": 1
}
